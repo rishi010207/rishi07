{
  "nbformat": 4,
  "nbformat_minor": 0,
  "metadata": {
    "colab": {
      "name": "DoubleEnded 4017",
      "provenance": [],
      "authorship_tag": "ABX9TyPhXf7N23kruAM/sey6Bcep",
      "include_colab_link": true
    },
    "kernelspec": {
      "name": "python3",
      "display_name": "Python 3"
    }
  },
  "cells": [
    {
      "cell_type": "markdown",
      "metadata": {
        "id": "view-in-github",
        "colab_type": "text"
      },
      "source": [
        "<a href=\"https://colab.research.google.com/github/rishi010207/rishi07/blob/master/DoubleEnded_4017.ipynb\" target=\"_parent\"><img src=\"https://colab.research.google.com/assets/colab-badge.svg\" alt=\"Open In Colab\"/></a>"
      ]
    },
    {
      "cell_type": "code",
      "metadata": {
        "id": "phTntp95xv3q",
        "colab_type": "code",
        "colab": {
          "base_uri": "https://localhost:8080/",
          "height": 224
        },
        "outputId": "b779e152-a05f-43bb-e50d-9edcacfe0379"
      },
      "source": [
        " \n",
        "import collections\n",
        "#create a deque\n",
        "DoubleEnded = collections.deque([\"Prithvi\",\"Rohan\",\"Rishi\"])\n",
        "print (DoubleEnded)\n",
        " \n",
        "#Append to the right\n",
        "print(\"Adding to the right:\")\n",
        "DoubleEnded.append(\"charmander\")\n",
        "print(DoubleEnded)\n",
        " \n",
        "#Append on left side\n",
        "print(\"Adding to the left:\")\n",
        "DoubleEnded.appendleft(\"Pikachu\")\n",
        "print(DoubleEnded)\n",
        " \n",
        "#Remove from right\n",
        "print(\"Remove from right:\")\n",
        "DoubleEnded.pop()\n",
        "print(DoubleEnded)\n",
        " \n",
        "#Remove from left\n",
        "print(\"Remove from left:\")\n",
        "DoubleEnded.popleft()\n",
        "print(DoubleEnded)\n",
        " \n",
        "#Reverse\n",
        "print(\"Reversing deque:\")\n",
        "DoubleEnded.reverse()\n",
        "print(DoubleEnded)"
      ],
      "execution_count": 2,
      "outputs": [
        {
          "output_type": "stream",
          "text": [
            "deque(['Prithvi', 'Rohan', 'Rishi'])\n",
            "Adding to the right:\n",
            "deque(['Prithvi', 'Rohan', 'Rishi', 'charmander'])\n",
            "Adding to the left:\n",
            "deque(['Pikachu', 'Prithvi', 'Rohan', 'Rishi', 'charmander'])\n",
            "Remove from right:\n",
            "deque(['Pikachu', 'Prithvi', 'Rohan', 'Rishi'])\n",
            "Remove from left:\n",
            "deque(['Prithvi', 'Rohan', 'Rishi'])\n",
            "Reversing deque:\n",
            "deque(['Rishi', 'Rohan', 'Prithvi'])\n"
          ],
          "name": "stdout"
        }
      ]
    }
  ]
}