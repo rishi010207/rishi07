{
  "nbformat": 4,
  "nbformat_minor": 0,
  "metadata": {
    "colab": {
      "name": "Untitled2.ipynb",
      "provenance": [],
      "authorship_tag": "ABX9TyPhXf7N23kruAM/sey6Bcep",
      "include_colab_link": true
    },
    "kernelspec": {
      "name": "python3",
      "display_name": "Python 3"
    }
  },
  "cells": [
    {
      "cell_type": "markdown",
      "metadata": {
        "id": "view-in-github",
        "colab_type": "text"
      },
      "source": [
        "<a href=\"https://colab.research.google.com/github/rishi010207/rishi07/blob/master/Untitled2.ipynb\" target=\"_parent\"><img src=\"https://colab.research.google.com/assets/colab-badge.svg\" alt=\"Open In Colab\"/></a>"
      ]
    },
    {
      "cell_type": "code",
      "metadata": {
        "id": "phTntp95xv3q",
        "colab_type": "code",
        "colab": {}
      },
      "source": [
        " \n",
        "import collections\n",
        "#create a deque\n",
        "DoubleEnded = collections.deque([\"Prithvi\",\"Rohan\",\"Rishi\"])\n",
        "print (DoubleEnded)\n",
        " \n",
        "#Append to the right\n",
        "print(\"Adding to the right:\")\n",
        "DoubleEnded.append(\"charmander\")\n",
        "print(DoubleEnded)\n",
        " \n",
        "#Append on left side\n",
        "print(\"Adding to the left:\")\n",
        "DoubleEnded.appendleft(\"Pikachu\")\n",
        "print(DoubleEnded)\n",
        " \n",
        "#Remove from right\n",
        "print(\"Remove from right:\")\n",
        "DoubleEnded.pop()\n",
        "print(DoubleEnded)\n",
        " \n",
        "#Remove from left\n",
        "print(\"Remove from left:\")\n",
        "DoubleEnded.popleft()\n",
        "print(DoubleEnded)\n",
        " \n",
        "#Reverse\n",
        "print(\"Reversing deque:\")\n",
        "DoubleEnded.reverse()\n",
        "print(DoubleEnded)"
      ],
      "execution_count": null,
      "outputs": []
    }
  ]
}